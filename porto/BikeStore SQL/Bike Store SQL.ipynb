{
 "cells": [
  {
   "cell_type": "markdown",
   "id": "dbaeee2f-7cb0-4ede-96b6-ab0b4b15fb2a",
   "metadata": {},
   "source": [
    "# Import"
   ]
  },
  {
   "cell_type": "code",
   "execution_count": 1,
   "id": "60f37947-c072-47f8-a769-5115359fcc67",
   "metadata": {},
   "outputs": [],
   "source": [
    "import sqlite3\n",
    "import pandas as pd"
   ]
  },
  {
   "cell_type": "markdown",
   "id": "a0d69d1a-b95f-4d5b-807f-9a0bc2481106",
   "metadata": {},
   "source": [
    "# Loading Data"
   ]
  },
  {
   "cell_type": "markdown",
   "id": "cb0d4659-74bf-4f0f-b173-af5ed4c4fc4b",
   "metadata": {},
   "source": [
    "## 1. Brands"
   ]
  },
  {
   "cell_type": "code",
   "execution_count": 2,
   "id": "7ce42d3a-4049-48cd-b906-262f8360d79b",
   "metadata": {},
   "outputs": [
    {
     "data": {
      "text/html": [
       "<div>\n",
       "<style scoped>\n",
       "    .dataframe tbody tr th:only-of-type {\n",
       "        vertical-align: middle;\n",
       "    }\n",
       "\n",
       "    .dataframe tbody tr th {\n",
       "        vertical-align: top;\n",
       "    }\n",
       "\n",
       "    .dataframe thead th {\n",
       "        text-align: right;\n",
       "    }\n",
       "</style>\n",
       "<table border=\"1\" class=\"dataframe\">\n",
       "  <thead>\n",
       "    <tr style=\"text-align: right;\">\n",
       "      <th></th>\n",
       "      <th>brand_id</th>\n",
       "      <th>brand_name</th>\n",
       "    </tr>\n",
       "  </thead>\n",
       "  <tbody>\n",
       "    <tr>\n",
       "      <th>0</th>\n",
       "      <td>1</td>\n",
       "      <td>Electra</td>\n",
       "    </tr>\n",
       "    <tr>\n",
       "      <th>1</th>\n",
       "      <td>2</td>\n",
       "      <td>Haro</td>\n",
       "    </tr>\n",
       "    <tr>\n",
       "      <th>2</th>\n",
       "      <td>3</td>\n",
       "      <td>Heller</td>\n",
       "    </tr>\n",
       "    <tr>\n",
       "      <th>3</th>\n",
       "      <td>4</td>\n",
       "      <td>Pure Cycles</td>\n",
       "    </tr>\n",
       "    <tr>\n",
       "      <th>4</th>\n",
       "      <td>5</td>\n",
       "      <td>Ritchey</td>\n",
       "    </tr>\n",
       "  </tbody>\n",
       "</table>\n",
       "</div>"
      ],
      "text/plain": [
       "   brand_id   brand_name\n",
       "0         1      Electra\n",
       "1         2         Haro\n",
       "2         3       Heller\n",
       "3         4  Pure Cycles\n",
       "4         5      Ritchey"
      ]
     },
     "execution_count": 2,
     "metadata": {},
     "output_type": "execute_result"
    }
   ],
   "source": [
    "brands_df = pd.read_csv('Notebook/Bike Store SQL/brands.csv', sep=',', encoding='utf-8')\n",
    "brands_df.head(5)"
   ]
  },
  {
   "cell_type": "markdown",
   "id": "c44572f2-4148-40da-889b-791163e6fcef",
   "metadata": {},
   "source": [
    "## 2. Categories"
   ]
  },
  {
   "cell_type": "code",
   "execution_count": 3,
   "id": "18d8f30e-49e3-4e58-b0ad-99e6956572af",
   "metadata": {},
   "outputs": [
    {
     "data": {
      "text/html": [
       "<div>\n",
       "<style scoped>\n",
       "    .dataframe tbody tr th:only-of-type {\n",
       "        vertical-align: middle;\n",
       "    }\n",
       "\n",
       "    .dataframe tbody tr th {\n",
       "        vertical-align: top;\n",
       "    }\n",
       "\n",
       "    .dataframe thead th {\n",
       "        text-align: right;\n",
       "    }\n",
       "</style>\n",
       "<table border=\"1\" class=\"dataframe\">\n",
       "  <thead>\n",
       "    <tr style=\"text-align: right;\">\n",
       "      <th></th>\n",
       "      <th>category_id</th>\n",
       "      <th>category_name</th>\n",
       "    </tr>\n",
       "  </thead>\n",
       "  <tbody>\n",
       "    <tr>\n",
       "      <th>0</th>\n",
       "      <td>1</td>\n",
       "      <td>Children Bicycles</td>\n",
       "    </tr>\n",
       "    <tr>\n",
       "      <th>1</th>\n",
       "      <td>2</td>\n",
       "      <td>Comfort Bicycles</td>\n",
       "    </tr>\n",
       "    <tr>\n",
       "      <th>2</th>\n",
       "      <td>3</td>\n",
       "      <td>Cruisers Bicycles</td>\n",
       "    </tr>\n",
       "    <tr>\n",
       "      <th>3</th>\n",
       "      <td>4</td>\n",
       "      <td>Cyclocross Bicycles</td>\n",
       "    </tr>\n",
       "    <tr>\n",
       "      <th>4</th>\n",
       "      <td>5</td>\n",
       "      <td>Electric Bikes</td>\n",
       "    </tr>\n",
       "  </tbody>\n",
       "</table>\n",
       "</div>"
      ],
      "text/plain": [
       "   category_id        category_name\n",
       "0            1    Children Bicycles\n",
       "1            2     Comfort Bicycles\n",
       "2            3    Cruisers Bicycles\n",
       "3            4  Cyclocross Bicycles\n",
       "4            5       Electric Bikes"
      ]
     },
     "execution_count": 3,
     "metadata": {},
     "output_type": "execute_result"
    }
   ],
   "source": [
    "categories_df = pd.read_csv('Notebook/Bike Store SQL/categories.csv', sep=',', encoding='utf-8')\n",
    "categories_df.head(5)"
   ]
  },
  {
   "cell_type": "markdown",
   "id": "3f24129e-300d-4dde-af42-e2f7df9c4e08",
   "metadata": {},
   "source": [
    "## 3. Customers"
   ]
  },
  {
   "cell_type": "code",
   "execution_count": 4,
   "id": "c5a22043-e1a0-470b-95d0-0a17630fbdbb",
   "metadata": {},
   "outputs": [
    {
     "data": {
      "text/html": [
       "<div>\n",
       "<style scoped>\n",
       "    .dataframe tbody tr th:only-of-type {\n",
       "        vertical-align: middle;\n",
       "    }\n",
       "\n",
       "    .dataframe tbody tr th {\n",
       "        vertical-align: top;\n",
       "    }\n",
       "\n",
       "    .dataframe thead th {\n",
       "        text-align: right;\n",
       "    }\n",
       "</style>\n",
       "<table border=\"1\" class=\"dataframe\">\n",
       "  <thead>\n",
       "    <tr style=\"text-align: right;\">\n",
       "      <th></th>\n",
       "      <th>customer_id</th>\n",
       "      <th>first_name</th>\n",
       "      <th>last_name</th>\n",
       "      <th>phone</th>\n",
       "      <th>email</th>\n",
       "      <th>street</th>\n",
       "      <th>city</th>\n",
       "      <th>state</th>\n",
       "      <th>zip_code</th>\n",
       "    </tr>\n",
       "  </thead>\n",
       "  <tbody>\n",
       "    <tr>\n",
       "      <th>0</th>\n",
       "      <td>1</td>\n",
       "      <td>Debra</td>\n",
       "      <td>Burks</td>\n",
       "      <td>NaN</td>\n",
       "      <td>debra.burks@yahoo.com</td>\n",
       "      <td>9273 Thorne Ave.</td>\n",
       "      <td>Orchard Park</td>\n",
       "      <td>NY</td>\n",
       "      <td>14127</td>\n",
       "    </tr>\n",
       "    <tr>\n",
       "      <th>1</th>\n",
       "      <td>2</td>\n",
       "      <td>Kasha</td>\n",
       "      <td>Todd</td>\n",
       "      <td>NaN</td>\n",
       "      <td>kasha.todd@yahoo.com</td>\n",
       "      <td>910 Vine Street</td>\n",
       "      <td>Campbell</td>\n",
       "      <td>CA</td>\n",
       "      <td>95008</td>\n",
       "    </tr>\n",
       "    <tr>\n",
       "      <th>2</th>\n",
       "      <td>3</td>\n",
       "      <td>Tameka</td>\n",
       "      <td>Fisher</td>\n",
       "      <td>NaN</td>\n",
       "      <td>tameka.fisher@aol.com</td>\n",
       "      <td>769C Honey Creek St.</td>\n",
       "      <td>Redondo Beach</td>\n",
       "      <td>CA</td>\n",
       "      <td>90278</td>\n",
       "    </tr>\n",
       "    <tr>\n",
       "      <th>3</th>\n",
       "      <td>4</td>\n",
       "      <td>Daryl</td>\n",
       "      <td>Spence</td>\n",
       "      <td>NaN</td>\n",
       "      <td>daryl.spence@aol.com</td>\n",
       "      <td>988 Pearl Lane</td>\n",
       "      <td>Uniondale</td>\n",
       "      <td>NY</td>\n",
       "      <td>11553</td>\n",
       "    </tr>\n",
       "    <tr>\n",
       "      <th>4</th>\n",
       "      <td>5</td>\n",
       "      <td>Charolette</td>\n",
       "      <td>Rice</td>\n",
       "      <td>(916) 381-6003</td>\n",
       "      <td>charolette.rice@msn.com</td>\n",
       "      <td>107 River Dr.</td>\n",
       "      <td>Sacramento</td>\n",
       "      <td>CA</td>\n",
       "      <td>95820</td>\n",
       "    </tr>\n",
       "  </tbody>\n",
       "</table>\n",
       "</div>"
      ],
      "text/plain": [
       "   customer_id  first_name last_name           phone                    email  \\\n",
       "0            1       Debra     Burks             NaN    debra.burks@yahoo.com   \n",
       "1            2       Kasha      Todd             NaN     kasha.todd@yahoo.com   \n",
       "2            3      Tameka    Fisher             NaN    tameka.fisher@aol.com   \n",
       "3            4       Daryl    Spence             NaN     daryl.spence@aol.com   \n",
       "4            5  Charolette      Rice  (916) 381-6003  charolette.rice@msn.com   \n",
       "\n",
       "                  street           city state  zip_code  \n",
       "0      9273 Thorne Ave.    Orchard Park    NY     14127  \n",
       "1       910 Vine Street        Campbell    CA     95008  \n",
       "2  769C Honey Creek St.   Redondo Beach    CA     90278  \n",
       "3        988 Pearl Lane       Uniondale    NY     11553  \n",
       "4         107 River Dr.      Sacramento    CA     95820  "
      ]
     },
     "execution_count": 4,
     "metadata": {},
     "output_type": "execute_result"
    }
   ],
   "source": [
    "customers_df = pd.read_csv('Notebook/Bike Store SQL/customers.csv', sep=',', encoding='utf-8')\n",
    "customers_df.head(5)"
   ]
  },
  {
   "cell_type": "markdown",
   "id": "695496b5-bb37-49f2-9de7-3d164ac27592",
   "metadata": {},
   "source": [
    "## 4. Order Items"
   ]
  },
  {
   "cell_type": "code",
   "execution_count": 5,
   "id": "057a4bc1-6eca-4c9e-803f-0557175bc5c2",
   "metadata": {},
   "outputs": [
    {
     "data": {
      "text/html": [
       "<div>\n",
       "<style scoped>\n",
       "    .dataframe tbody tr th:only-of-type {\n",
       "        vertical-align: middle;\n",
       "    }\n",
       "\n",
       "    .dataframe tbody tr th {\n",
       "        vertical-align: top;\n",
       "    }\n",
       "\n",
       "    .dataframe thead th {\n",
       "        text-align: right;\n",
       "    }\n",
       "</style>\n",
       "<table border=\"1\" class=\"dataframe\">\n",
       "  <thead>\n",
       "    <tr style=\"text-align: right;\">\n",
       "      <th></th>\n",
       "      <th>order_id</th>\n",
       "      <th>item_id</th>\n",
       "      <th>product_id</th>\n",
       "      <th>quantity</th>\n",
       "      <th>list_price</th>\n",
       "      <th>discount</th>\n",
       "    </tr>\n",
       "  </thead>\n",
       "  <tbody>\n",
       "    <tr>\n",
       "      <th>0</th>\n",
       "      <td>1</td>\n",
       "      <td>1</td>\n",
       "      <td>20</td>\n",
       "      <td>1</td>\n",
       "      <td>599.99</td>\n",
       "      <td>0.20</td>\n",
       "    </tr>\n",
       "    <tr>\n",
       "      <th>1</th>\n",
       "      <td>1</td>\n",
       "      <td>2</td>\n",
       "      <td>8</td>\n",
       "      <td>2</td>\n",
       "      <td>1799.99</td>\n",
       "      <td>0.07</td>\n",
       "    </tr>\n",
       "    <tr>\n",
       "      <th>2</th>\n",
       "      <td>1</td>\n",
       "      <td>3</td>\n",
       "      <td>10</td>\n",
       "      <td>2</td>\n",
       "      <td>1549.00</td>\n",
       "      <td>0.05</td>\n",
       "    </tr>\n",
       "    <tr>\n",
       "      <th>3</th>\n",
       "      <td>1</td>\n",
       "      <td>4</td>\n",
       "      <td>16</td>\n",
       "      <td>2</td>\n",
       "      <td>599.99</td>\n",
       "      <td>0.05</td>\n",
       "    </tr>\n",
       "    <tr>\n",
       "      <th>4</th>\n",
       "      <td>1</td>\n",
       "      <td>5</td>\n",
       "      <td>4</td>\n",
       "      <td>1</td>\n",
       "      <td>2899.99</td>\n",
       "      <td>0.20</td>\n",
       "    </tr>\n",
       "  </tbody>\n",
       "</table>\n",
       "</div>"
      ],
      "text/plain": [
       "   order_id  item_id  product_id  quantity  list_price  discount\n",
       "0         1        1          20         1      599.99      0.20\n",
       "1         1        2           8         2     1799.99      0.07\n",
       "2         1        3          10         2     1549.00      0.05\n",
       "3         1        4          16         2      599.99      0.05\n",
       "4         1        5           4         1     2899.99      0.20"
      ]
     },
     "execution_count": 5,
     "metadata": {},
     "output_type": "execute_result"
    }
   ],
   "source": [
    "order_items_df = pd.read_csv('Notebook/Bike Store SQL/order_items.csv', sep=',', encoding='utf-8')\n",
    "order_items_df.head(5)"
   ]
  },
  {
   "cell_type": "markdown",
   "id": "cd938fc4-ef32-4a97-81ab-51a075c3da1b",
   "metadata": {},
   "source": [
    "## 5. Orders"
   ]
  },
  {
   "cell_type": "code",
   "execution_count": 6,
   "id": "7a0bb551-46c1-4f79-97ac-662dac14d669",
   "metadata": {},
   "outputs": [
    {
     "data": {
      "text/html": [
       "<div>\n",
       "<style scoped>\n",
       "    .dataframe tbody tr th:only-of-type {\n",
       "        vertical-align: middle;\n",
       "    }\n",
       "\n",
       "    .dataframe tbody tr th {\n",
       "        vertical-align: top;\n",
       "    }\n",
       "\n",
       "    .dataframe thead th {\n",
       "        text-align: right;\n",
       "    }\n",
       "</style>\n",
       "<table border=\"1\" class=\"dataframe\">\n",
       "  <thead>\n",
       "    <tr style=\"text-align: right;\">\n",
       "      <th></th>\n",
       "      <th>order_id</th>\n",
       "      <th>customer_id</th>\n",
       "      <th>order_status</th>\n",
       "      <th>order_date</th>\n",
       "      <th>required_date</th>\n",
       "      <th>shipped_date</th>\n",
       "      <th>store_id</th>\n",
       "      <th>staff_id</th>\n",
       "    </tr>\n",
       "  </thead>\n",
       "  <tbody>\n",
       "    <tr>\n",
       "      <th>0</th>\n",
       "      <td>1</td>\n",
       "      <td>259</td>\n",
       "      <td>4</td>\n",
       "      <td>2016-01-01</td>\n",
       "      <td>2016-01-03</td>\n",
       "      <td>2016-01-03</td>\n",
       "      <td>1</td>\n",
       "      <td>2</td>\n",
       "    </tr>\n",
       "    <tr>\n",
       "      <th>1</th>\n",
       "      <td>2</td>\n",
       "      <td>1212</td>\n",
       "      <td>4</td>\n",
       "      <td>2016-01-01</td>\n",
       "      <td>2016-01-04</td>\n",
       "      <td>2016-01-03</td>\n",
       "      <td>2</td>\n",
       "      <td>6</td>\n",
       "    </tr>\n",
       "    <tr>\n",
       "      <th>2</th>\n",
       "      <td>3</td>\n",
       "      <td>523</td>\n",
       "      <td>4</td>\n",
       "      <td>2016-01-02</td>\n",
       "      <td>2016-01-05</td>\n",
       "      <td>2016-01-03</td>\n",
       "      <td>2</td>\n",
       "      <td>7</td>\n",
       "    </tr>\n",
       "    <tr>\n",
       "      <th>3</th>\n",
       "      <td>4</td>\n",
       "      <td>175</td>\n",
       "      <td>4</td>\n",
       "      <td>2016-01-03</td>\n",
       "      <td>2016-01-04</td>\n",
       "      <td>2016-01-05</td>\n",
       "      <td>1</td>\n",
       "      <td>3</td>\n",
       "    </tr>\n",
       "    <tr>\n",
       "      <th>4</th>\n",
       "      <td>5</td>\n",
       "      <td>1324</td>\n",
       "      <td>4</td>\n",
       "      <td>2016-01-03</td>\n",
       "      <td>2016-01-06</td>\n",
       "      <td>2016-01-06</td>\n",
       "      <td>2</td>\n",
       "      <td>6</td>\n",
       "    </tr>\n",
       "  </tbody>\n",
       "</table>\n",
       "</div>"
      ],
      "text/plain": [
       "   order_id  customer_id  order_status  order_date required_date shipped_date  \\\n",
       "0         1          259             4  2016-01-01    2016-01-03   2016-01-03   \n",
       "1         2         1212             4  2016-01-01    2016-01-04   2016-01-03   \n",
       "2         3          523             4  2016-01-02    2016-01-05   2016-01-03   \n",
       "3         4          175             4  2016-01-03    2016-01-04   2016-01-05   \n",
       "4         5         1324             4  2016-01-03    2016-01-06   2016-01-06   \n",
       "\n",
       "   store_id  staff_id  \n",
       "0         1         2  \n",
       "1         2         6  \n",
       "2         2         7  \n",
       "3         1         3  \n",
       "4         2         6  "
      ]
     },
     "execution_count": 6,
     "metadata": {},
     "output_type": "execute_result"
    }
   ],
   "source": [
    "orders_df = pd.read_csv('Notebook/Bike Store SQL/orders.csv', sep=',', encoding='utf-8')\n",
    "orders_df.head(5)"
   ]
  },
  {
   "cell_type": "markdown",
   "id": "979f6885-4889-438b-9903-0979b5de1493",
   "metadata": {},
   "source": [
    "## 6. Products"
   ]
  },
  {
   "cell_type": "code",
   "execution_count": 7,
   "id": "45fddb8b-311c-458a-867f-57bfb288a78a",
   "metadata": {},
   "outputs": [
    {
     "data": {
      "text/html": [
       "<div>\n",
       "<style scoped>\n",
       "    .dataframe tbody tr th:only-of-type {\n",
       "        vertical-align: middle;\n",
       "    }\n",
       "\n",
       "    .dataframe tbody tr th {\n",
       "        vertical-align: top;\n",
       "    }\n",
       "\n",
       "    .dataframe thead th {\n",
       "        text-align: right;\n",
       "    }\n",
       "</style>\n",
       "<table border=\"1\" class=\"dataframe\">\n",
       "  <thead>\n",
       "    <tr style=\"text-align: right;\">\n",
       "      <th></th>\n",
       "      <th>product_id</th>\n",
       "      <th>product_name</th>\n",
       "      <th>brand_id</th>\n",
       "      <th>category_id</th>\n",
       "      <th>model_year</th>\n",
       "      <th>list_price</th>\n",
       "    </tr>\n",
       "  </thead>\n",
       "  <tbody>\n",
       "    <tr>\n",
       "      <th>0</th>\n",
       "      <td>1</td>\n",
       "      <td>Trek 820 - 2016</td>\n",
       "      <td>9</td>\n",
       "      <td>6</td>\n",
       "      <td>2016</td>\n",
       "      <td>379.99</td>\n",
       "    </tr>\n",
       "    <tr>\n",
       "      <th>1</th>\n",
       "      <td>2</td>\n",
       "      <td>Ritchey Timberwolf Frameset - 2016</td>\n",
       "      <td>5</td>\n",
       "      <td>6</td>\n",
       "      <td>2016</td>\n",
       "      <td>749.99</td>\n",
       "    </tr>\n",
       "    <tr>\n",
       "      <th>2</th>\n",
       "      <td>3</td>\n",
       "      <td>Surly Wednesday Frameset - 2016</td>\n",
       "      <td>8</td>\n",
       "      <td>6</td>\n",
       "      <td>2016</td>\n",
       "      <td>999.99</td>\n",
       "    </tr>\n",
       "    <tr>\n",
       "      <th>3</th>\n",
       "      <td>4</td>\n",
       "      <td>Trek Fuel EX 8 29 - 2016</td>\n",
       "      <td>9</td>\n",
       "      <td>6</td>\n",
       "      <td>2016</td>\n",
       "      <td>2899.99</td>\n",
       "    </tr>\n",
       "    <tr>\n",
       "      <th>4</th>\n",
       "      <td>5</td>\n",
       "      <td>Heller Shagamaw Frame - 2016</td>\n",
       "      <td>3</td>\n",
       "      <td>6</td>\n",
       "      <td>2016</td>\n",
       "      <td>1320.99</td>\n",
       "    </tr>\n",
       "  </tbody>\n",
       "</table>\n",
       "</div>"
      ],
      "text/plain": [
       "   product_id                        product_name  brand_id  category_id  \\\n",
       "0           1                     Trek 820 - 2016         9            6   \n",
       "1           2  Ritchey Timberwolf Frameset - 2016         5            6   \n",
       "2           3     Surly Wednesday Frameset - 2016         8            6   \n",
       "3           4            Trek Fuel EX 8 29 - 2016         9            6   \n",
       "4           5        Heller Shagamaw Frame - 2016         3            6   \n",
       "\n",
       "   model_year  list_price  \n",
       "0        2016      379.99  \n",
       "1        2016      749.99  \n",
       "2        2016      999.99  \n",
       "3        2016     2899.99  \n",
       "4        2016     1320.99  "
      ]
     },
     "execution_count": 7,
     "metadata": {},
     "output_type": "execute_result"
    }
   ],
   "source": [
    "products_df = pd.read_csv('Notebook/Bike Store SQL/products.csv', sep=',', encoding='utf-8')\n",
    "products_df.head(5)"
   ]
  },
  {
   "cell_type": "markdown",
   "id": "5890a4c0-25da-4ed0-a852-3f5121ef1e7a",
   "metadata": {},
   "source": [
    "## 7. Staffs"
   ]
  },
  {
   "cell_type": "code",
   "execution_count": 8,
   "id": "35b83676-2594-45c3-a224-1cb9e6038d5a",
   "metadata": {},
   "outputs": [
    {
     "data": {
      "text/html": [
       "<div>\n",
       "<style scoped>\n",
       "    .dataframe tbody tr th:only-of-type {\n",
       "        vertical-align: middle;\n",
       "    }\n",
       "\n",
       "    .dataframe tbody tr th {\n",
       "        vertical-align: top;\n",
       "    }\n",
       "\n",
       "    .dataframe thead th {\n",
       "        text-align: right;\n",
       "    }\n",
       "</style>\n",
       "<table border=\"1\" class=\"dataframe\">\n",
       "  <thead>\n",
       "    <tr style=\"text-align: right;\">\n",
       "      <th></th>\n",
       "      <th>staff_id</th>\n",
       "      <th>first_name</th>\n",
       "      <th>last_name</th>\n",
       "      <th>email</th>\n",
       "      <th>phone</th>\n",
       "      <th>active</th>\n",
       "      <th>store_id</th>\n",
       "      <th>manager_id</th>\n",
       "    </tr>\n",
       "  </thead>\n",
       "  <tbody>\n",
       "    <tr>\n",
       "      <th>0</th>\n",
       "      <td>1</td>\n",
       "      <td>Fabiola</td>\n",
       "      <td>Jackson</td>\n",
       "      <td>fabiola.jackson@bikes.shop</td>\n",
       "      <td>(831) 555-5554</td>\n",
       "      <td>1</td>\n",
       "      <td>1</td>\n",
       "      <td>NaN</td>\n",
       "    </tr>\n",
       "    <tr>\n",
       "      <th>1</th>\n",
       "      <td>2</td>\n",
       "      <td>Mireya</td>\n",
       "      <td>Copeland</td>\n",
       "      <td>mireya.copeland@bikes.shop</td>\n",
       "      <td>(831) 555-5555</td>\n",
       "      <td>1</td>\n",
       "      <td>1</td>\n",
       "      <td>1.0</td>\n",
       "    </tr>\n",
       "    <tr>\n",
       "      <th>2</th>\n",
       "      <td>3</td>\n",
       "      <td>Genna</td>\n",
       "      <td>Serrano</td>\n",
       "      <td>genna.serrano@bikes.shop</td>\n",
       "      <td>(831) 555-5556</td>\n",
       "      <td>1</td>\n",
       "      <td>1</td>\n",
       "      <td>2.0</td>\n",
       "    </tr>\n",
       "    <tr>\n",
       "      <th>3</th>\n",
       "      <td>4</td>\n",
       "      <td>Virgie</td>\n",
       "      <td>Wiggins</td>\n",
       "      <td>virgie.wiggins@bikes.shop</td>\n",
       "      <td>(831) 555-5557</td>\n",
       "      <td>1</td>\n",
       "      <td>1</td>\n",
       "      <td>2.0</td>\n",
       "    </tr>\n",
       "    <tr>\n",
       "      <th>4</th>\n",
       "      <td>5</td>\n",
       "      <td>Jannette</td>\n",
       "      <td>David</td>\n",
       "      <td>jannette.david@bikes.shop</td>\n",
       "      <td>(516) 379-4444</td>\n",
       "      <td>1</td>\n",
       "      <td>2</td>\n",
       "      <td>1.0</td>\n",
       "    </tr>\n",
       "  </tbody>\n",
       "</table>\n",
       "</div>"
      ],
      "text/plain": [
       "   staff_id first_name last_name                       email           phone  \\\n",
       "0         1    Fabiola   Jackson  fabiola.jackson@bikes.shop  (831) 555-5554   \n",
       "1         2     Mireya  Copeland  mireya.copeland@bikes.shop  (831) 555-5555   \n",
       "2         3      Genna   Serrano    genna.serrano@bikes.shop  (831) 555-5556   \n",
       "3         4     Virgie   Wiggins   virgie.wiggins@bikes.shop  (831) 555-5557   \n",
       "4         5   Jannette     David   jannette.david@bikes.shop  (516) 379-4444   \n",
       "\n",
       "   active  store_id  manager_id  \n",
       "0       1         1         NaN  \n",
       "1       1         1         1.0  \n",
       "2       1         1         2.0  \n",
       "3       1         1         2.0  \n",
       "4       1         2         1.0  "
      ]
     },
     "execution_count": 8,
     "metadata": {},
     "output_type": "execute_result"
    }
   ],
   "source": [
    "staffs_df = pd.read_csv('Notebook/Bike Store SQL/staffs.csv', sep=',', encoding='utf-8')\n",
    "staffs_df.head(5)"
   ]
  },
  {
   "cell_type": "markdown",
   "id": "462a06c9-9e2a-420c-bb0b-048131cf3d2c",
   "metadata": {},
   "source": [
    "## 8. Stocks"
   ]
  },
  {
   "cell_type": "code",
   "execution_count": 9,
   "id": "7125045e-0e34-4530-a2fc-b723453f4895",
   "metadata": {},
   "outputs": [
    {
     "data": {
      "text/html": [
       "<div>\n",
       "<style scoped>\n",
       "    .dataframe tbody tr th:only-of-type {\n",
       "        vertical-align: middle;\n",
       "    }\n",
       "\n",
       "    .dataframe tbody tr th {\n",
       "        vertical-align: top;\n",
       "    }\n",
       "\n",
       "    .dataframe thead th {\n",
       "        text-align: right;\n",
       "    }\n",
       "</style>\n",
       "<table border=\"1\" class=\"dataframe\">\n",
       "  <thead>\n",
       "    <tr style=\"text-align: right;\">\n",
       "      <th></th>\n",
       "      <th>store_id</th>\n",
       "      <th>product_id</th>\n",
       "      <th>quantity</th>\n",
       "    </tr>\n",
       "  </thead>\n",
       "  <tbody>\n",
       "    <tr>\n",
       "      <th>0</th>\n",
       "      <td>1</td>\n",
       "      <td>1</td>\n",
       "      <td>27</td>\n",
       "    </tr>\n",
       "    <tr>\n",
       "      <th>1</th>\n",
       "      <td>1</td>\n",
       "      <td>2</td>\n",
       "      <td>5</td>\n",
       "    </tr>\n",
       "    <tr>\n",
       "      <th>2</th>\n",
       "      <td>1</td>\n",
       "      <td>3</td>\n",
       "      <td>6</td>\n",
       "    </tr>\n",
       "    <tr>\n",
       "      <th>3</th>\n",
       "      <td>1</td>\n",
       "      <td>4</td>\n",
       "      <td>23</td>\n",
       "    </tr>\n",
       "    <tr>\n",
       "      <th>4</th>\n",
       "      <td>1</td>\n",
       "      <td>5</td>\n",
       "      <td>22</td>\n",
       "    </tr>\n",
       "    <tr>\n",
       "      <th>5</th>\n",
       "      <td>1</td>\n",
       "      <td>6</td>\n",
       "      <td>0</td>\n",
       "    </tr>\n",
       "    <tr>\n",
       "      <th>6</th>\n",
       "      <td>1</td>\n",
       "      <td>7</td>\n",
       "      <td>8</td>\n",
       "    </tr>\n",
       "    <tr>\n",
       "      <th>7</th>\n",
       "      <td>1</td>\n",
       "      <td>8</td>\n",
       "      <td>0</td>\n",
       "    </tr>\n",
       "    <tr>\n",
       "      <th>8</th>\n",
       "      <td>1</td>\n",
       "      <td>9</td>\n",
       "      <td>11</td>\n",
       "    </tr>\n",
       "    <tr>\n",
       "      <th>9</th>\n",
       "      <td>1</td>\n",
       "      <td>10</td>\n",
       "      <td>15</td>\n",
       "    </tr>\n",
       "    <tr>\n",
       "      <th>10</th>\n",
       "      <td>1</td>\n",
       "      <td>11</td>\n",
       "      <td>8</td>\n",
       "    </tr>\n",
       "    <tr>\n",
       "      <th>11</th>\n",
       "      <td>1</td>\n",
       "      <td>12</td>\n",
       "      <td>16</td>\n",
       "    </tr>\n",
       "    <tr>\n",
       "      <th>12</th>\n",
       "      <td>1</td>\n",
       "      <td>13</td>\n",
       "      <td>13</td>\n",
       "    </tr>\n",
       "    <tr>\n",
       "      <th>13</th>\n",
       "      <td>1</td>\n",
       "      <td>14</td>\n",
       "      <td>8</td>\n",
       "    </tr>\n",
       "    <tr>\n",
       "      <th>14</th>\n",
       "      <td>1</td>\n",
       "      <td>15</td>\n",
       "      <td>3</td>\n",
       "    </tr>\n",
       "    <tr>\n",
       "      <th>15</th>\n",
       "      <td>1</td>\n",
       "      <td>16</td>\n",
       "      <td>4</td>\n",
       "    </tr>\n",
       "    <tr>\n",
       "      <th>16</th>\n",
       "      <td>1</td>\n",
       "      <td>17</td>\n",
       "      <td>2</td>\n",
       "    </tr>\n",
       "    <tr>\n",
       "      <th>17</th>\n",
       "      <td>1</td>\n",
       "      <td>18</td>\n",
       "      <td>16</td>\n",
       "    </tr>\n",
       "    <tr>\n",
       "      <th>18</th>\n",
       "      <td>1</td>\n",
       "      <td>19</td>\n",
       "      <td>4</td>\n",
       "    </tr>\n",
       "    <tr>\n",
       "      <th>19</th>\n",
       "      <td>1</td>\n",
       "      <td>20</td>\n",
       "      <td>26</td>\n",
       "    </tr>\n",
       "    <tr>\n",
       "      <th>20</th>\n",
       "      <td>1</td>\n",
       "      <td>21</td>\n",
       "      <td>24</td>\n",
       "    </tr>\n",
       "    <tr>\n",
       "      <th>21</th>\n",
       "      <td>1</td>\n",
       "      <td>22</td>\n",
       "      <td>29</td>\n",
       "    </tr>\n",
       "    <tr>\n",
       "      <th>22</th>\n",
       "      <td>1</td>\n",
       "      <td>23</td>\n",
       "      <td>9</td>\n",
       "    </tr>\n",
       "    <tr>\n",
       "      <th>23</th>\n",
       "      <td>1</td>\n",
       "      <td>24</td>\n",
       "      <td>10</td>\n",
       "    </tr>\n",
       "    <tr>\n",
       "      <th>24</th>\n",
       "      <td>1</td>\n",
       "      <td>25</td>\n",
       "      <td>10</td>\n",
       "    </tr>\n",
       "    <tr>\n",
       "      <th>25</th>\n",
       "      <td>1</td>\n",
       "      <td>26</td>\n",
       "      <td>16</td>\n",
       "    </tr>\n",
       "    <tr>\n",
       "      <th>26</th>\n",
       "      <td>1</td>\n",
       "      <td>27</td>\n",
       "      <td>21</td>\n",
       "    </tr>\n",
       "    <tr>\n",
       "      <th>27</th>\n",
       "      <td>1</td>\n",
       "      <td>28</td>\n",
       "      <td>20</td>\n",
       "    </tr>\n",
       "    <tr>\n",
       "      <th>28</th>\n",
       "      <td>1</td>\n",
       "      <td>29</td>\n",
       "      <td>13</td>\n",
       "    </tr>\n",
       "    <tr>\n",
       "      <th>29</th>\n",
       "      <td>1</td>\n",
       "      <td>30</td>\n",
       "      <td>30</td>\n",
       "    </tr>\n",
       "    <tr>\n",
       "      <th>30</th>\n",
       "      <td>1</td>\n",
       "      <td>31</td>\n",
       "      <td>2</td>\n",
       "    </tr>\n",
       "    <tr>\n",
       "      <th>31</th>\n",
       "      <td>1</td>\n",
       "      <td>32</td>\n",
       "      <td>0</td>\n",
       "    </tr>\n",
       "    <tr>\n",
       "      <th>32</th>\n",
       "      <td>1</td>\n",
       "      <td>33</td>\n",
       "      <td>10</td>\n",
       "    </tr>\n",
       "    <tr>\n",
       "      <th>33</th>\n",
       "      <td>1</td>\n",
       "      <td>34</td>\n",
       "      <td>2</td>\n",
       "    </tr>\n",
       "    <tr>\n",
       "      <th>34</th>\n",
       "      <td>1</td>\n",
       "      <td>35</td>\n",
       "      <td>18</td>\n",
       "    </tr>\n",
       "    <tr>\n",
       "      <th>35</th>\n",
       "      <td>1</td>\n",
       "      <td>36</td>\n",
       "      <td>26</td>\n",
       "    </tr>\n",
       "    <tr>\n",
       "      <th>36</th>\n",
       "      <td>1</td>\n",
       "      <td>37</td>\n",
       "      <td>12</td>\n",
       "    </tr>\n",
       "    <tr>\n",
       "      <th>37</th>\n",
       "      <td>1</td>\n",
       "      <td>38</td>\n",
       "      <td>13</td>\n",
       "    </tr>\n",
       "    <tr>\n",
       "      <th>38</th>\n",
       "      <td>1</td>\n",
       "      <td>39</td>\n",
       "      <td>2</td>\n",
       "    </tr>\n",
       "    <tr>\n",
       "      <th>39</th>\n",
       "      <td>1</td>\n",
       "      <td>40</td>\n",
       "      <td>24</td>\n",
       "    </tr>\n",
       "    <tr>\n",
       "      <th>40</th>\n",
       "      <td>1</td>\n",
       "      <td>41</td>\n",
       "      <td>10</td>\n",
       "    </tr>\n",
       "    <tr>\n",
       "      <th>41</th>\n",
       "      <td>1</td>\n",
       "      <td>42</td>\n",
       "      <td>0</td>\n",
       "    </tr>\n",
       "    <tr>\n",
       "      <th>42</th>\n",
       "      <td>1</td>\n",
       "      <td>43</td>\n",
       "      <td>2</td>\n",
       "    </tr>\n",
       "    <tr>\n",
       "      <th>43</th>\n",
       "      <td>1</td>\n",
       "      <td>44</td>\n",
       "      <td>1</td>\n",
       "    </tr>\n",
       "    <tr>\n",
       "      <th>44</th>\n",
       "      <td>1</td>\n",
       "      <td>45</td>\n",
       "      <td>15</td>\n",
       "    </tr>\n",
       "    <tr>\n",
       "      <th>45</th>\n",
       "      <td>1</td>\n",
       "      <td>46</td>\n",
       "      <td>19</td>\n",
       "    </tr>\n",
       "    <tr>\n",
       "      <th>46</th>\n",
       "      <td>1</td>\n",
       "      <td>47</td>\n",
       "      <td>21</td>\n",
       "    </tr>\n",
       "    <tr>\n",
       "      <th>47</th>\n",
       "      <td>1</td>\n",
       "      <td>48</td>\n",
       "      <td>5</td>\n",
       "    </tr>\n",
       "    <tr>\n",
       "      <th>48</th>\n",
       "      <td>1</td>\n",
       "      <td>49</td>\n",
       "      <td>8</td>\n",
       "    </tr>\n",
       "    <tr>\n",
       "      <th>49</th>\n",
       "      <td>1</td>\n",
       "      <td>50</td>\n",
       "      <td>29</td>\n",
       "    </tr>\n",
       "  </tbody>\n",
       "</table>\n",
       "</div>"
      ],
      "text/plain": [
       "    store_id  product_id  quantity\n",
       "0          1           1        27\n",
       "1          1           2         5\n",
       "2          1           3         6\n",
       "3          1           4        23\n",
       "4          1           5        22\n",
       "5          1           6         0\n",
       "6          1           7         8\n",
       "7          1           8         0\n",
       "8          1           9        11\n",
       "9          1          10        15\n",
       "10         1          11         8\n",
       "11         1          12        16\n",
       "12         1          13        13\n",
       "13         1          14         8\n",
       "14         1          15         3\n",
       "15         1          16         4\n",
       "16         1          17         2\n",
       "17         1          18        16\n",
       "18         1          19         4\n",
       "19         1          20        26\n",
       "20         1          21        24\n",
       "21         1          22        29\n",
       "22         1          23         9\n",
       "23         1          24        10\n",
       "24         1          25        10\n",
       "25         1          26        16\n",
       "26         1          27        21\n",
       "27         1          28        20\n",
       "28         1          29        13\n",
       "29         1          30        30\n",
       "30         1          31         2\n",
       "31         1          32         0\n",
       "32         1          33        10\n",
       "33         1          34         2\n",
       "34         1          35        18\n",
       "35         1          36        26\n",
       "36         1          37        12\n",
       "37         1          38        13\n",
       "38         1          39         2\n",
       "39         1          40        24\n",
       "40         1          41        10\n",
       "41         1          42         0\n",
       "42         1          43         2\n",
       "43         1          44         1\n",
       "44         1          45        15\n",
       "45         1          46        19\n",
       "46         1          47        21\n",
       "47         1          48         5\n",
       "48         1          49         8\n",
       "49         1          50        29"
      ]
     },
     "execution_count": 9,
     "metadata": {},
     "output_type": "execute_result"
    }
   ],
   "source": [
    "stocks_df = pd.read_csv('Notebook/Bike Store SQL/stocks.csv', sep=',', encoding='utf-8')\n",
    "stocks_df.head(50)"
   ]
  },
  {
   "cell_type": "markdown",
   "id": "51f7e9ab-9e39-479d-b61c-0ef6d498ed03",
   "metadata": {},
   "source": [
    "## 9. Stores"
   ]
  },
  {
   "cell_type": "code",
   "execution_count": 10,
   "id": "1b2abe85-c727-4966-a325-c2a3cfa3d80f",
   "metadata": {},
   "outputs": [
    {
     "data": {
      "text/html": [
       "<div>\n",
       "<style scoped>\n",
       "    .dataframe tbody tr th:only-of-type {\n",
       "        vertical-align: middle;\n",
       "    }\n",
       "\n",
       "    .dataframe tbody tr th {\n",
       "        vertical-align: top;\n",
       "    }\n",
       "\n",
       "    .dataframe thead th {\n",
       "        text-align: right;\n",
       "    }\n",
       "</style>\n",
       "<table border=\"1\" class=\"dataframe\">\n",
       "  <thead>\n",
       "    <tr style=\"text-align: right;\">\n",
       "      <th></th>\n",
       "      <th>store_id</th>\n",
       "      <th>store_name</th>\n",
       "      <th>phone</th>\n",
       "      <th>email</th>\n",
       "      <th>street</th>\n",
       "      <th>city</th>\n",
       "      <th>state</th>\n",
       "      <th>zip_code</th>\n",
       "    </tr>\n",
       "  </thead>\n",
       "  <tbody>\n",
       "    <tr>\n",
       "      <th>0</th>\n",
       "      <td>1</td>\n",
       "      <td>Santa Cruz Bikes</td>\n",
       "      <td>(831) 476-4321</td>\n",
       "      <td>santacruz@bikes.shop</td>\n",
       "      <td>3700 Portola Drive</td>\n",
       "      <td>Santa Cruz</td>\n",
       "      <td>CA</td>\n",
       "      <td>95060</td>\n",
       "    </tr>\n",
       "    <tr>\n",
       "      <th>1</th>\n",
       "      <td>2</td>\n",
       "      <td>Baldwin Bikes</td>\n",
       "      <td>(516) 379-8888</td>\n",
       "      <td>baldwin@bikes.shop</td>\n",
       "      <td>4200 Chestnut Lane</td>\n",
       "      <td>Baldwin</td>\n",
       "      <td>NY</td>\n",
       "      <td>11432</td>\n",
       "    </tr>\n",
       "    <tr>\n",
       "      <th>2</th>\n",
       "      <td>3</td>\n",
       "      <td>Rowlett Bikes</td>\n",
       "      <td>(972) 530-5555</td>\n",
       "      <td>rowlett@bikes.shop</td>\n",
       "      <td>8000 Fairway Avenue</td>\n",
       "      <td>Rowlett</td>\n",
       "      <td>TX</td>\n",
       "      <td>75088</td>\n",
       "    </tr>\n",
       "  </tbody>\n",
       "</table>\n",
       "</div>"
      ],
      "text/plain": [
       "   store_id        store_name           phone                 email  \\\n",
       "0         1  Santa Cruz Bikes  (831) 476-4321  santacruz@bikes.shop   \n",
       "1         2     Baldwin Bikes  (516) 379-8888    baldwin@bikes.shop   \n",
       "2         3     Rowlett Bikes  (972) 530-5555    rowlett@bikes.shop   \n",
       "\n",
       "                street        city state  zip_code  \n",
       "0   3700 Portola Drive  Santa Cruz    CA     95060  \n",
       "1   4200 Chestnut Lane     Baldwin    NY     11432  \n",
       "2  8000 Fairway Avenue     Rowlett    TX     75088  "
      ]
     },
     "execution_count": 10,
     "metadata": {},
     "output_type": "execute_result"
    }
   ],
   "source": [
    "stores_df = pd.read_csv('Notebook/Bike Store SQL/stores.csv', sep=',', encoding='utf-8')\n",
    "stores_df.head(5)"
   ]
  },
  {
   "cell_type": "markdown",
   "id": "67c7dccb-5471-4ef6-8b84-5b29d6437355",
   "metadata": {},
   "source": [
    "# Connect to Database"
   ]
  },
  {
   "cell_type": "code",
   "execution_count": 11,
   "id": "e2126b06-5141-46a0-98be-ef4e679cec88",
   "metadata": {},
   "outputs": [],
   "source": [
    "# Membuka koneksi ke database SQLite (akan dibuat jika tidak ada)\n",
    "conn = sqlite3.connect('bike_store.db')\n",
    "cursor = conn.cursor()\n",
    "\n",
    "#import os\n",
    "#os.remove('bike_store.db')"
   ]
  },
  {
   "cell_type": "markdown",
   "id": "67e4a634-3d60-4687-b090-36d24fc7555e",
   "metadata": {},
   "source": [
    "# Build a Table"
   ]
  },
  {
   "cell_type": "code",
   "execution_count": 12,
   "id": "57c3fed2-cdb3-4ac8-9827-c27beaad41f9",
   "metadata": {},
   "outputs": [],
   "source": [
    "# Membuat tabel brands\n",
    "cursor.execute('''\n",
    "CREATE TABLE IF NOT EXISTS brands (\n",
    "    brand_id INTEGER PRIMARY KEY,\n",
    "    brand_name TEXT(30)\n",
    ")\n",
    "''')\n",
    "\n",
    "# Membuat tabel categories\n",
    "cursor.execute('''\n",
    "CREATE TABLE IF NOT EXISTS categories (\n",
    "    category_id INTEGER PRIMARY KEY,\n",
    "    category_name TEXT\n",
    ")\n",
    "''')\n",
    "\n",
    "# Membuat tabel customers\n",
    "cursor.execute('''\n",
    "CREATE TABLE IF NOT EXISTS customers (\n",
    "    customer_id INTEGER PRIMARY KEY,\n",
    "    first_name TEXT,\n",
    "    last_name TEXT,\n",
    "    phone TEXT(13),\n",
    "    email TEXT,\n",
    "    street TEXT,\n",
    "    city TEXT\n",
    ")\n",
    "''')\n",
    "\n",
    "# Membuat tabel order_items\n",
    "cursor.execute('''\n",
    "CREATE TABLE IF NOT EXISTS order_items (\n",
    "    order_id INTEGER,\n",
    "    item_id INTEGER,\n",
    "    product_id INTEGER,\n",
    "    quantity INTEGER,\n",
    "    list_price REAL,\n",
    "    discount REAL,\n",
    "    FOREIGN KEY (order_id) REFERENCES orders(order_id),\n",
    "    FOREIGN KEY (product_id) REFERENCES products(product_id)\n",
    ")\n",
    "''')\n",
    "\n",
    "# Membuat tabel orders\n",
    "cursor.execute('''\n",
    "CREATE TABLE IF NOT EXISTS orders (\n",
    "    order_id INTEGER PRIMARY KEY,\n",
    "    customer_id INTEGER,\n",
    "    order_status INTEGER,\n",
    "    order_date TEXT,\n",
    "    required_date TEXT(10),\n",
    "    shipped_date TEXT(10),\n",
    "    store_id INTEGER,\n",
    "    staff_id INTEGER,\n",
    "    FOREIGN KEY (customer_id) REFERENCES customers(customer_id),\n",
    "    FOREIGN KEY (store_id) REFERENCES stores(store_id),\n",
    "    FOREIGN KEY (staff_id) REFERENCES staffs(staff_id)\n",
    ")\n",
    "''')\n",
    "\n",
    "# Membuat tabel products\n",
    "cursor.execute('''\n",
    "CREATE TABLE IF NOT EXISTS products (\n",
    "    product_id INTEGER PRIMARY KEY,\n",
    "    product_name TEXT,\n",
    "    brand_id INTEGER,\n",
    "    category_id INTEGER,\n",
    "    model_year INTEGER,\n",
    "    list_price REAL,\n",
    "    FOREIGN KEY (category_id) REFERENCES categories(category_id),\n",
    "    FOREIGN KEY (brand_id) REFERENCES brands(brand_id)\n",
    ")\n",
    "''')\n",
    "\n",
    "# Membuat tabel staffs\n",
    "cursor.execute('''\n",
    "CREATE TABLE IF NOT EXISTS staffs (\n",
    "    staff_id INTEGER PRIMARY KEY,\n",
    "    first_name TEXT,\n",
    "    last_name TEXT,\n",
    "    email TEXT,\n",
    "    phone TEXT(14),\n",
    "    active INTEGER,\n",
    "    store_id INTEGER,\n",
    "    manager_id INTEGER,\n",
    "    FOREIGN KEY (store_id) REFERENCES stores(store_id)\n",
    ")\n",
    "''')\n",
    "\n",
    "# Membuat tabel stocks\n",
    "cursor.execute('''\n",
    "CREATE TABLE IF NOT EXISTS stocks (\n",
    "    store_id INTEGER,\n",
    "    product_id INTEGER,\n",
    "    quantity INTEGER,\n",
    "    FOREIGN KEY (store_id) REFERENCES stores(store_id),\n",
    "    FOREIGN KEY (product_id) REFERENCES products(product_id)\n",
    ")\n",
    "''')\n",
    "\n",
    "# Membuat tabel stores\n",
    "cursor.execute('''\n",
    "CREATE TABLE IF NOT EXISTS stores (\n",
    "    store_id INTEGER PRIMARY KEY,\n",
    "    store_name TEXT,\n",
    "    phone TEXT(14),\n",
    "    email TEXT,\n",
    "    street TEXT,\n",
    "    city TEXT,\n",
    "    state TEXT(2),\n",
    "    zip_code INTEGER\n",
    ")\n",
    "''')\n",
    "\n",
    "# Commit perubahan untuk memastikan tabel dibuat\n",
    "conn.commit()\n"
   ]
  },
  {
   "cell_type": "markdown",
   "id": "9c061f8c-4978-4080-b125-850faff22406",
   "metadata": {},
   "source": [
    "# Fill the table"
   ]
  },
  {
   "cell_type": "code",
   "execution_count": 13,
   "id": "ca5c9de6-81a7-4dca-a8d6-aeb49b30a6dd",
   "metadata": {},
   "outputs": [],
   "source": [
    "# Menambahkan data dari brands.csv ke dalam tabel brands\n",
    "for index, row in brands_df.iterrows():\n",
    "    cursor.execute('''\n",
    "    INSERT INTO brands (brand_id, brand_name)\n",
    "    VALUES (?, ?)\n",
    "    ''', (row['brand_id'], row['brand_name']))\n",
    "\n",
    "# Menambahkan data dari categories.csv ke dalam tabel categories\n",
    "for index, row in categories_df.iterrows():\n",
    "    cursor.execute('''\n",
    "    INSERT INTO categories (category_id, category_name)\n",
    "    VALUES (?, ?)\n",
    "    ''', (row['category_id'], row['category_name']))\n",
    "\n",
    "# Menambahkan data dari customers.csv ke dalam tabel customers\n",
    "for index, row in customers_df.iterrows():\n",
    "    cursor.execute('''\n",
    "    INSERT INTO customers (customer_id, first_name, last_name, phone, email, street, city)\n",
    "    VALUES (?, ?, ?, ?, ?, ?, ?)\n",
    "    ''', (row['customer_id'], row['first_name'], row['last_name'], row['phone'], row['email'], row['street'], row['city']))\n",
    "\n",
    "# Menambahkan data dari order_items.csv ke dalam tabel order_items\n",
    "for index, row in order_items_df.iterrows():\n",
    "    cursor.execute('''\n",
    "    INSERT INTO order_items (order_id, item_id, product_id, quantity, list_price, discount)\n",
    "    VALUES (?, ?, ?, ?, ?, ?)\n",
    "    ''', (row['order_id'], row['item_id'], row['product_id'], row['quantity'], row['list_price'], row['discount']))\n",
    "\n",
    "# Menambahkan data dari orders.csv ke dalam tabel orders\n",
    "for index, row in orders_df.iterrows():\n",
    "    cursor.execute('''\n",
    "    INSERT INTO orders (order_id, customer_id, order_status, order_date, required_date, shipped_date, store_id, staff_id)\n",
    "    VALUES (?, ?, ?, ?, ?, ?, ?, ?)\n",
    "    ''', (row['order_id'], row['customer_id'], row['order_status'], row['order_date'], row['required_date'], row['shipped_date'], row['store_id'], row['staff_id']))\n",
    "\n",
    "# Menambahkan data dari products.csv ke dalam tabel products\n",
    "for index, row in products_df.iterrows():\n",
    "    cursor.execute('''\n",
    "    INSERT INTO products (product_id, product_name, brand_id, category_id, model_year, list_price)\n",
    "    VALUES (?, ?, ?, ?, ?, ?)\n",
    "    ''', (row['product_id'], row['product_name'], row['brand_id'], row['category_id'], row['model_year'], row['list_price']))\n",
    "\n",
    "# Menambahkan data dari staffs.csv ke dalam tabel staffs\n",
    "for index, row in staffs_df.iterrows():\n",
    "    cursor.execute('''\n",
    "    INSERT INTO staffs (staff_id, first_name, last_name, email, phone, active, store_id, manager_id)\n",
    "    VALUES (?, ?, ?, ?, ?, ?, ?, ?)\n",
    "    ''', (row['staff_id'], row['first_name'], row['last_name'], row['email'], row['phone'], row['active'], row['store_id'], row['manager_id']))\n",
    "\n",
    "\n",
    "# Menambahkan data dari stocks.csv ke dalam tabel stocks\n",
    "for index, row in stocks_df.iterrows():\n",
    "    cursor.execute('''\n",
    "    INSERT INTO stocks (store_id, product_id, quantity)\n",
    "    VALUES (?, ?, ?)\n",
    "    ''', (int(row['store_id']), int(row['product_id']), int(row['quantity'])))\n",
    "\n",
    "# Menambahkan data dari stores.csv ke dalam tabel stores\n",
    "for index, row in stores_df.iterrows():\n",
    "    cursor.execute('''\n",
    "    INSERT INTO stores (store_id, store_name, phone, email, street, city, state, zip_code)\n",
    "    VALUES (?, ?, ?, ?, ?, ?, ?, ?)\n",
    "    ''', (row['store_id'], row['store_name'], row['phone'], row['email'], row['street'], row['city'], row['state'], row['zip_code']))\n",
    "\n",
    "# Commit perubahan untuk memastikan data dimasukkan\n",
    "conn.commit()\n"
   ]
  },
  {
   "cell_type": "markdown",
   "id": "9869f96c-d0b9-4288-b73a-f334b42965bc",
   "metadata": {},
   "source": [
    "# Check Relationship Table"
   ]
  },
  {
   "cell_type": "markdown",
   "id": "54f3682a-d542-476c-9195-88b0f9ad1b4d",
   "metadata": {},
   "source": [
    "![](Notebook/bikestore.png)"
   ]
  },
  {
   "cell_type": "code",
   "execution_count": 14,
   "id": "8cff6921-37a6-43d7-946c-af4777f49b06",
   "metadata": {},
   "outputs": [
    {
     "name": "stdout",
     "output_type": "stream",
     "text": [
      "('Jaqueline', '2016-01-01', '(516) 379-8888', 'Baldwin')\n",
      "('Joshua', '2016-01-02', '(516) 379-8888', 'Baldwin')\n",
      "('Arla', '2016-01-03', '(516) 379-8888', 'Baldwin')\n",
      "('Sharyn', '2016-01-04', '(516) 379-8888', 'Baldwin')\n",
      "('Laureen', '2016-01-04', '(516) 379-8888', 'Baldwin')\n",
      "('Leslie', '2016-01-04', '(516) 379-8888', 'Baldwin')\n",
      "('Alane', '2016-01-05', '(516) 379-8888', 'Baldwin')\n",
      "('Tarra', '2016-01-05', '(516) 379-8888', 'Baldwin')\n",
      "('Patience', '2016-01-08', '(516) 379-8888', 'Baldwin')\n",
      "('Ellsworth', '2016-01-09', '(516) 379-8888', 'Baldwin')\n"
     ]
    }
   ],
   "source": [
    "# Menampilkan data customer yang terhubung dengan membership dan payment_details\n",
    "cursor.execute('''\n",
    "SELECT c.first_name, o.order_date, s.phone, s.city\n",
    "FROM customers c\n",
    "JOIN orders o ON c.customer_id = o.customer_id  -- Menghubungkan customer dengan membership\n",
    "JOIN stores s ON o.store_id = s.store_id  -- Menghubungkan customer dengan payment_details\n",
    "ORDER BY s.city ASC LIMIT 10;\n",
    "''')\n",
    "\n",
    "# Menampilkan hasil query\n",
    "rows = cursor.fetchall()\n",
    "for row in rows:\n",
    "    print(row)\n"
   ]
  },
  {
   "cell_type": "markdown",
   "id": "678152ad-90b1-48a1-86de-192f158c7cd1",
   "metadata": {},
   "source": [
    "# Question"
   ]
  },
  {
   "cell_type": "markdown",
   "id": "31530dd1-8883-4473-b2d3-8b56c5b8a023",
   "metadata": {},
   "source": [
    "## Sales & Customers:"
   ]
  },
  {
   "cell_type": "markdown",
   "id": "045cee7e-4735-4ff9-8087-6aa988bf473d",
   "metadata": {},
   "source": [
    "### 1. How many total orders have been placed by each customer?"
   ]
  },
  {
   "cell_type": "code",
   "execution_count": 15,
   "id": "d7e480c1-fee1-4091-9651-695f6080a088",
   "metadata": {},
   "outputs": [
    {
     "name": "stdout",
     "output_type": "stream",
     "text": [
      "(116, 3)\n",
      "(77, 3)\n",
      "(68, 3)\n",
      "(66, 3)\n",
      "(64, 3)\n",
      "(61, 3)\n",
      "(56, 3)\n",
      "(53, 3)\n",
      "(50, 3)\n",
      "(47, 3)\n"
     ]
    }
   ],
   "source": [
    "# Menampilkan jumlah customer berdasarkan jumlah order\n",
    "cursor.execute('''\n",
    "SELECT customer_id, COUNT(order_id) AS total_orders\n",
    "FROM orders\n",
    "GROUP BY customer_id\n",
    "ORDER BY total_orders DESC\n",
    "LIMIT 10;\n",
    "''')\n",
    "\n",
    "# Menampilkan hasil query\n",
    "rows = cursor.fetchall()\n",
    "for row in rows:\n",
    "    print(row)\n"
   ]
  },
  {
   "cell_type": "markdown",
   "id": "ff46717f-165a-4a21-8f0c-08dccb187381",
   "metadata": {},
   "source": [
    "### 2. Which customer has made the most purchases in the last month?"
   ]
  },
  {
   "cell_type": "code",
   "execution_count": 16,
   "id": "8d7a7a88-d63f-47b8-b5a6-a7526f996fb0",
   "metadata": {},
   "outputs": [
    {
     "name": "stdout",
     "output_type": "stream",
     "text": [
      "No orders were made in the last month.\n"
     ]
    }
   ],
   "source": [
    "# Menampilkan jumlah customer berdasarkan jumlah order\n",
    "cursor.execute('''\n",
    "SELECT customer_id, COUNT(order_id) AS total_orders\n",
    "FROM orders\n",
    "WHERE order_date >= DATE('now', '-1 month')\n",
    "GROUP BY customer_id\n",
    "ORDER BY total_orders DESC\n",
    "LIMIT 1;\n",
    "''')\n",
    "\n",
    "# Menampilkan hasil query\n",
    "result = cursor.fetchone()\n",
    "if result:\n",
    "    print(f\"Customer ID: {result[0]} has made the most purchases with {result[1]} orders in the last month.\")\n",
    "else:\n",
    "    print(\"No orders were made in the last month.\")\n"
   ]
  },
  {
   "cell_type": "markdown",
   "id": "a3d525e1-f2f2-4931-bdd1-1711a9d9b4db",
   "metadata": {},
   "source": [
    "### 3. What is the average number of items ordered per order?"
   ]
  },
  {
   "cell_type": "code",
   "execution_count": 17,
   "id": "f3326666-4b67-4111-b6da-7623c24242c2",
   "metadata": {},
   "outputs": [
    {
     "name": "stdout",
     "output_type": "stream",
     "text": [
      "The average number of items ordered per order is: 4.38\n"
     ]
    }
   ],
   "source": [
    "# Menampilkan jumlah customer berdasarkan jumlah order\n",
    "cursor.execute('''\n",
    "SELECT AVG(item_count) AS average_items_per_order\n",
    "FROM (\n",
    "    SELECT order_id, SUM(quantity) AS item_count\n",
    "    FROM order_items\n",
    "    GROUP BY order_id\n",
    ");\n",
    "''')\n",
    "\n",
    "# Menampilkan hasil query\n",
    "result = cursor.fetchone()\n",
    "if result:\n",
    "    print(f\"The average number of items ordered per order is: {result[0]:.2f}\")\n",
    "else:\n",
    "    print(\"No order items data available.\")"
   ]
  },
  {
   "cell_type": "markdown",
   "id": "39c25462-5ff0-4782-b89a-f6e59fc7e7ca",
   "metadata": {},
   "source": [
    "### 4.How many orders have not been shipped yet (where the shipped_date is empty)?"
   ]
  },
  {
   "cell_type": "code",
   "execution_count": 18,
   "id": "49f85ffe-daec-4bfa-afc5-4d55090e249a",
   "metadata": {},
   "outputs": [
    {
     "name": "stdout",
     "output_type": "stream",
     "text": [
      "The number of orders that have not been shipped yet: 170\n"
     ]
    }
   ],
   "source": [
    "# Menampilkan jumlah customer berdasarkan jumlah order\n",
    "cursor.execute('''\n",
    "SELECT COUNT(order_id) AS orders_not_shipped\n",
    "FROM orders\n",
    "WHERE shipped_date IS NULL;\n",
    "''')\n",
    "\n",
    "# Menampilkan hasil query\n",
    "result = cursor.fetchone()\n",
    "if result:\n",
    "    print(f\"The number of orders that have not been shipped yet: {result[0]}\")\n",
    "else:\n",
    "    print(\"No orders found.\")"
   ]
  },
  {
   "cell_type": "markdown",
   "id": "650429e0-65ca-4929-90d0-99059b5c8cc9",
   "metadata": {},
   "source": [
    "### 5. Which city has the highest number of customers?"
   ]
  },
  {
   "cell_type": "code",
   "execution_count": 19,
   "id": "e959fa99-9588-4c86-978e-62450e9f7ec0",
   "metadata": {},
   "outputs": [
    {
     "name": "stdout",
     "output_type": "stream",
     "text": [
      "The city with the highest number of customers is: Mount Vernon with 20 customers.\n"
     ]
    }
   ],
   "source": [
    "# Menampilkan jumlah customer berdasarkan jumlah order\n",
    "cursor.execute('''\n",
    "SELECT city, COUNT(customer_id) AS total_customers\n",
    "FROM customers\n",
    "GROUP BY city\n",
    "ORDER BY total_customers DESC\n",
    "LIMIT 1;\n",
    "''')\n",
    "\n",
    "# Menampilkan hasil query\n",
    "result = cursor.fetchone()\n",
    "if result:\n",
    "    print(f\"The city with the highest number of customers is: {result[0]} with {result[1]} customers.\")\n",
    "else:\n",
    "    print(\"No customer data available.\")"
   ]
  },
  {
   "cell_type": "markdown",
   "id": "52f337a5-99d2-413a-8b2a-2e4899261597",
   "metadata": {},
   "source": [
    "## Orders & Stores:"
   ]
  },
  {
   "cell_type": "markdown",
   "id": "8fec384a-2126-461c-9c5a-1ae0b4ce3c52",
   "metadata": {},
   "source": [
    "### 6. Which store has the highest number of orders in the past year?"
   ]
  },
  {
   "cell_type": "code",
   "execution_count": 20,
   "id": "c1ad3912-a9cb-4c3f-8550-9767ea1ccc73",
   "metadata": {},
   "outputs": [
    {
     "name": "stdout",
     "output_type": "stream",
     "text": [
      "The store with the highest number of orders in the past year is store ID: Mount Vernon with 20 orders.\n"
     ]
    }
   ],
   "source": [
    "# Menampilkan jumlah customer berdasarkan jumlah order\n",
    "cursor.execute('''\n",
    "SELECT store_id, COUNT(order_id) AS total_orders\n",
    "FROM orders\n",
    "WHERE order_date >= DATE('now', '-1 year')\n",
    "GROUP BY store_id\n",
    "ORDER BY total_orders DESC\n",
    "LIMIT 1;\n",
    "''')\n",
    "\n",
    "# Menampilkan hasil query\n",
    "if result:\n",
    "    print(f\"The store with the highest number of orders in the past year is store ID: {result[0]} with {result[1]} orders.\")\n",
    "else:\n",
    "    print(\"No orders found in the past year.\")"
   ]
  },
  {
   "cell_type": "markdown",
   "id": "d7f96087-fdc0-44c5-8964-848358d6f88e",
   "metadata": {},
   "source": [
    "### 7. What is the total revenue per store based on sales transactions?"
   ]
  },
  {
   "cell_type": "code",
   "execution_count": 21,
   "id": "5e6b053f-fe1a-4155-9e41-ea15167c08f2",
   "metadata": {},
   "outputs": [
    {
     "name": "stdout",
     "output_type": "stream",
     "text": [
      "Store ID: 1 - Total Revenue: 1789987.26\n",
      "Store ID: 2 - Total Revenue: 5825734.57\n",
      "Store ID: 3 - Total Revenue: 962521.97\n"
     ]
    }
   ],
   "source": [
    "# Menampilkan jumlah customer berdasarkan jumlah order\n",
    "cursor.execute('''\n",
    "SELECT o.store_id, SUM(oi.quantity * (oi.list_price - oi.discount)) AS total_revenue\n",
    "FROM orders o\n",
    "JOIN order_items oi ON o.order_id = oi.order_id\n",
    "GROUP BY o.store_id;\n",
    "''')\n",
    "\n",
    "# Menampilkan hasil query\n",
    "results = cursor.fetchall()\n",
    "for row in results:\n",
    "    print(f\"Store ID: {row[0]} - Total Revenue: {row[1]:.2f}\")"
   ]
  },
  {
   "cell_type": "markdown",
   "id": "ef07a249-d071-422b-aeb9-93047ad50409",
   "metadata": {},
   "source": [
    "### 8. How many staff members are working in each store?"
   ]
  },
  {
   "cell_type": "code",
   "execution_count": 22,
   "id": "7f742591-7e05-4df9-ad12-648a1871d426",
   "metadata": {},
   "outputs": [
    {
     "name": "stdout",
     "output_type": "stream",
     "text": [
      "Store ID: 1 - Total Staff: 4\n",
      "Store ID: 2 - Total Staff: 3\n",
      "Store ID: 3 - Total Staff: 3\n"
     ]
    }
   ],
   "source": [
    "# Menampilkan jumlah customer berdasarkan jumlah order\n",
    "cursor.execute('''\n",
    "SELECT store_id, COUNT(staff_id) AS total_staff\n",
    "FROM staffs\n",
    "GROUP BY store_id;\n",
    "''')\n",
    "\n",
    "# Menampilkan hasil query\n",
    "results = cursor.fetchall()\n",
    "for row in results:\n",
    "    print(f\"Store ID: {row[0]} - Total Staff: {row[1]}\")"
   ]
  },
  {
   "cell_type": "markdown",
   "id": "42d1defb-8ea1-4b86-b6f5-693ce3fe9d45",
   "metadata": {},
   "source": [
    "### 9. Which staff member has handled the most orders?"
   ]
  },
  {
   "cell_type": "code",
   "execution_count": 23,
   "id": "2a039e20-7b46-4b6e-9f2f-20b1480df107",
   "metadata": {},
   "outputs": [
    {
     "name": "stdout",
     "output_type": "stream",
     "text": [
      "Staff Member: Marcelene Boyer (Staff ID: 6) handled the most orders: 553 orders.\n"
     ]
    }
   ],
   "source": [
    "# Menampilkan jumlah customer berdasarkan jumlah order\n",
    "cursor.execute('''\n",
    "SELECT s.staff_id, s.first_name, s.last_name, COUNT(o.order_id) AS total_orders\n",
    "FROM orders o\n",
    "JOIN staffs s ON o.staff_id = s.staff_id\n",
    "GROUP BY s.staff_id\n",
    "ORDER BY total_orders DESC\n",
    "LIMIT 1;\n",
    "''')\n",
    "\n",
    "# Menampilkan hasil query\n",
    "result = cursor.fetchone()\n",
    "if result:\n",
    "    print(f\"Staff Member: {result[1]} {result[2]} (Staff ID: {result[0]}) handled the most orders: {result[3]} orders.\")\n",
    "else:\n",
    "    print(\"No orders found.\")"
   ]
  },
  {
   "cell_type": "markdown",
   "id": "3acb4b1f-76ba-401a-a8f4-56f0cb67b421",
   "metadata": {},
   "source": [
    "### 10. How many orders does each store process per month?"
   ]
  },
  {
   "cell_type": "code",
   "execution_count": 24,
   "id": "35ea7a31-d832-4cb4-829e-5dfe7323a048",
   "metadata": {},
   "outputs": [
    {
     "name": "stdout",
     "output_type": "stream",
     "text": [
      "Store ID: 1 - Month: 2016-01 - Total Orders: 14\n",
      "Store ID: 1 - Month: 2016-02 - Total Orders: 10\n",
      "Store ID: 1 - Month: 2016-03 - Total Orders: 10\n",
      "Store ID: 1 - Month: 2016-04 - Total Orders: 12\n",
      "Store ID: 1 - Month: 2016-05 - Total Orders: 8\n",
      "Store ID: 1 - Month: 2016-06 - Total Orders: 8\n",
      "Store ID: 1 - Month: 2016-07 - Total Orders: 4\n",
      "Store ID: 1 - Month: 2016-08 - Total Orders: 11\n",
      "Store ID: 1 - Month: 2016-09 - Total Orders: 15\n",
      "Store ID: 1 - Month: 2016-10 - Total Orders: 17\n"
     ]
    }
   ],
   "source": [
    "# Menampilkan jumlah customer berdasarkan jumlah order\n",
    "cursor.execute('''\n",
    "SELECT store_id, strftime('%Y-%m', order_date) AS month, COUNT(order_id) AS total_orders\n",
    "FROM orders\n",
    "GROUP BY store_id, month\n",
    "ORDER BY store_id, month\n",
    "LIMIT 10;\n",
    "''')\n",
    "\n",
    "# Menampilkan hasil query\n",
    "results = cursor.fetchall()\n",
    "for row in results:\n",
    "    print(f\"Store ID: {row[0]} - Month: {row[1]} - Total Orders: {row[2]}\")"
   ]
  },
  {
   "cell_type": "markdown",
   "id": "e714e687-71b0-4d23-8b60-e3c1aa43fa30",
   "metadata": {},
   "source": [
    "## Products & Inventory:"
   ]
  },
  {
   "cell_type": "markdown",
   "id": "a406b3c7-d88f-469b-88d8-4463416d5c57",
   "metadata": {},
   "source": [
    "### 11. Which product has been sold the most in the past year?"
   ]
  },
  {
   "cell_type": "code",
   "execution_count": 25,
   "id": "842edc6d-6524-45f3-a958-a8defb55b3fa",
   "metadata": {},
   "outputs": [
    {
     "name": "stdout",
     "output_type": "stream",
     "text": [
      "No orders found in the past year.\n"
     ]
    }
   ],
   "source": [
    "# Menampilkan jumlah customer berdasarkan jumlah order\n",
    "cursor.execute('''\n",
    "SELECT p.product_id, p.product_name, SUM(oi.quantity) AS total_quantity_sold\n",
    "FROM order_items oi\n",
    "JOIN products p ON oi.product_id = p.product_id\n",
    "JOIN orders o ON oi.order_id = o.order_id\n",
    "WHERE o.order_date >= DATE('now', '-1 year')\n",
    "GROUP BY p.product_id\n",
    "ORDER BY total_quantity_sold DESC\n",
    "LIMIT 1;\n",
    "''')\n",
    "\n",
    "# Menampilkan hasil query\n",
    "result = cursor.fetchone()\n",
    "if result:\n",
    "    print(f\"Product: {result[1]} (Product ID: {result[0]}) has been sold the most with {result[2]} units in the past year.\")\n",
    "else:\n",
    "    print(\"No orders found in the past year.\")"
   ]
  },
  {
   "cell_type": "markdown",
   "id": "f722f6b3-0d33-4cce-b555-9cf69d3694ff",
   "metadata": {},
   "source": [
    "### 12. Which product category generates the highest sales?"
   ]
  },
  {
   "cell_type": "code",
   "execution_count": 26,
   "id": "f60ccf37-011d-4426-afe8-5070ccb71811",
   "metadata": {},
   "outputs": [
    {
     "name": "stdout",
     "output_type": "stream",
     "text": [
      "Category: Mountain Bikes (Category ID: 6) generates the highest sales of 3030590.90.\n"
     ]
    }
   ],
   "source": [
    "# Menampilkan jumlah customer berdasarkan jumlah order\n",
    "cursor.execute('''\n",
    "SELECT c.category_id, c.category_name, SUM(oi.quantity * (oi.list_price - oi.discount)) AS total_sales\n",
    "FROM order_items oi\n",
    "JOIN products p ON oi.product_id = p.product_id\n",
    "JOIN categories c ON p.category_id = c.category_id\n",
    "JOIN orders o ON oi.order_id = o.order_id\n",
    "GROUP BY c.category_id\n",
    "ORDER BY total_sales DESC\n",
    "LIMIT 1;\n",
    "''')\n",
    "\n",
    "# Menampilkan hasil query\n",
    "result = cursor.fetchone()\n",
    "if result:\n",
    "    print(f\"Category: {result[1]} (Category ID: {result[0]}) generates the highest sales of {result[2]:.2f}.\")\n",
    "else:\n",
    "    print(\"No sales data available.\")"
   ]
  },
  {
   "cell_type": "markdown",
   "id": "64fd8465-bb81-4288-bf18-5221aa8cdb41",
   "metadata": {},
   "source": [
    "### 13. What is the total stock of products available in each store?"
   ]
  },
  {
   "cell_type": "code",
   "execution_count": 27,
   "id": "a806cc0a-bdaa-41fa-a12a-5034638bc95d",
   "metadata": {},
   "outputs": [
    {
     "name": "stdout",
     "output_type": "stream",
     "text": [
      "Store ID: 1 - Total Stock: 4532 units\n",
      "Store ID: 2 - Total Stock: 4359 units\n",
      "Store ID: 3 - Total Stock: 4620 units\n"
     ]
    }
   ],
   "source": [
    "# Menampilkan jumlah customer berdasarkan jumlah order\n",
    "cursor.execute('''\n",
    "SELECT st.store_id, SUM(st.quantity) AS total_stock\n",
    "FROM stocks st\n",
    "GROUP BY st.store_id;\n",
    "''')\n",
    "\n",
    "# Menampilkan hasil query\n",
    "results = cursor.fetchall()\n",
    "for row in results:\n",
    "    print(f\"Store ID: {row[0]} - Total Stock: {row[1]} units\")"
   ]
  },
  {
   "cell_type": "markdown",
   "id": "adf32e6e-08e9-4c49-98c1-5f0f091f9a23",
   "metadata": {},
   "source": [
    "### 14. What is the average selling price of products based on category?"
   ]
  },
  {
   "cell_type": "code",
   "execution_count": 28,
   "id": "5ea732d9-df25-4368-b3ec-f127b9c2462c",
   "metadata": {},
   "outputs": [
    {
     "name": "stdout",
     "output_type": "stream",
     "text": [
      "Category: Children Bicycles (Category ID: 1) - Average Selling Price: 287.79\n",
      "Category: Comfort Bicycles (Category ID: 2) - Average Selling Price: 682.12\n",
      "Category: Cruisers Bicycles (Category ID: 3) - Average Selling Price: 730.41\n",
      "Category: Cyclocross Bicycles (Category ID: 4) - Average Selling Price: 2542.79\n",
      "Category: Electric Bikes (Category ID: 5) - Average Selling Price: 3281.66\n",
      "Category: Mountain Bikes (Category ID: 6) - Average Selling Price: 1649.76\n",
      "Category: Road Bikes (Category ID: 7) - Average Selling Price: 3175.36\n"
     ]
    }
   ],
   "source": [
    "# Menampilkan jumlah customer berdasarkan jumlah order\n",
    "cursor.execute('''\n",
    "SELECT c.category_id, c.category_name, AVG(p.list_price) AS avg_selling_price\n",
    "FROM products p\n",
    "JOIN categories c ON p.category_id = c.category_id\n",
    "GROUP BY c.category_id;\n",
    "''')\n",
    "\n",
    "# Menampilkan hasil query\n",
    "results = cursor.fetchall()\n",
    "for row in results:\n",
    "    print(f\"Category: {row[1]} (Category ID: {row[0]}) - Average Selling Price: {row[2]:.2f}\")"
   ]
  },
  {
   "cell_type": "markdown",
   "id": "8d8eeda4-5197-415e-a7ea-f24fe59abce3",
   "metadata": {},
   "source": [
    "### 15. Which brand has the highest number of products in the database?"
   ]
  },
  {
   "cell_type": "code",
   "execution_count": 29,
   "id": "28472cad-aafc-4d5d-bc47-7abf37e0069f",
   "metadata": {},
   "outputs": [
    {
     "name": "stdout",
     "output_type": "stream",
     "text": [
      "Brand: Trek (Brand ID: 9) has the highest number of products: 135 products.\n"
     ]
    }
   ],
   "source": [
    "# Menampilkan jumlah customer berdasarkan jumlah order\n",
    "cursor.execute('''\n",
    "SELECT b.brand_id, b.brand_name, COUNT(p.product_id) AS product_count\n",
    "FROM products p\n",
    "JOIN brands b ON p.brand_id = b.brand_id\n",
    "GROUP BY b.brand_id\n",
    "ORDER BY product_count DESC\n",
    "LIMIT 1;\n",
    "''')\n",
    "\n",
    "# Menampilkan hasil query\n",
    "result = cursor.fetchone()\n",
    "if result:\n",
    "    print(f\"Brand: {result[1]} (Brand ID: {result[0]}) has the highest number of products: {result[2]} products.\")\n",
    "else:\n",
    "    print(\"No products found.\")"
   ]
  },
  {
   "cell_type": "markdown",
   "id": "3c0bc538-af8e-491e-a212-727826e27583",
   "metadata": {},
   "source": [
    "## Discount & Pricing:"
   ]
  },
  {
   "cell_type": "markdown",
   "id": "295702b9-6900-4570-bb4d-36d32a5cf9be",
   "metadata": {},
   "source": [
    "### 16. What is the average discount given per product?"
   ]
  },
  {
   "cell_type": "code",
   "execution_count": 30,
   "id": "b1bc69b8-68fd-4fe2-b4b1-8510212c4cb7",
   "metadata": {},
   "outputs": [
    {
     "name": "stdout",
     "output_type": "stream",
     "text": [
      "Product: Ritchey Timberwolf Frameset - 2016 (Product ID: 2) - Average Discount: 0.11\n",
      "Product: Surly Wednesday Frameset - 2016 (Product ID: 3) - Average Discount: 0.11\n",
      "Product: Trek Fuel EX 8 29 - 2016 (Product ID: 4) - Average Discount: 0.11\n",
      "Product: Heller Shagamaw Frame - 2016 (Product ID: 5) - Average Discount: 0.11\n",
      "Product: Surly Ice Cream Truck Frameset - 2016 (Product ID: 6) - Average Discount: 0.10\n",
      "Product: Trek Slash 8 27.5 - 2016 (Product ID: 7) - Average Discount: 0.10\n",
      "Product: Trek Remedy 29 Carbon Frameset - 2016 (Product ID: 8) - Average Discount: 0.10\n",
      "Product: Trek Conduit+ - 2016 (Product ID: 9) - Average Discount: 0.10\n",
      "Product: Surly Straggler - 2016 (Product ID: 10) - Average Discount: 0.11\n",
      "Product: Surly Straggler 650b - 2016 (Product ID: 11) - Average Discount: 0.11\n"
     ]
    }
   ],
   "source": [
    "# Menampilkan jumlah customer berdasarkan jumlah order\n",
    "cursor.execute('''\n",
    "SELECT p.product_id, p.product_name, AVG(oi.discount) AS avg_discount\n",
    "FROM order_items oi\n",
    "JOIN products p ON oi.product_id = p.product_id\n",
    "GROUP BY p.product_id\n",
    "LIMIT 10;\n",
    "''')\n",
    "\n",
    "# Menampilkan hasil query\n",
    "results = cursor.fetchall()\n",
    "for row in results:\n",
    "    print(f\"Product: {row[1]} (Product ID: {row[0]}) - Average Discount: {row[2]:.2f}\")"
   ]
  },
  {
   "cell_type": "markdown",
   "id": "6842a136-1c74-40db-b0f5-3ca2d753cdfe",
   "metadata": {},
   "source": [
    "### 17. How does discounting affect the number of items sold?"
   ]
  },
  {
   "cell_type": "code",
   "execution_count": 31,
   "id": "5d99d5cf-bfcd-4f19-8c72-475e11acb286",
   "metadata": {},
   "outputs": [
    {
     "name": "stdout",
     "output_type": "stream",
     "text": [
      "Product: Electra Townie Original 21D EQ Ladies' - 2018 (Product ID: 314) - Average Discount: 0.20 - Total Quantity Sold: 2\n",
      "Product: Electra Townie Original 21D - 2018 (Product ID: 299) - Average Discount: 0.20 - Total Quantity Sold: 1\n",
      "Product: Electra Treasure 3i 20\" - 2018 (Product ID: 296) - Average Discount: 0.20 - Total Quantity Sold: 1\n",
      "Product: Electra Soft Serve 1 (16-inch) - Girl's - 2018 (Product ID: 285) - Average Discount: 0.20 - Total Quantity Sold: 1\n",
      "Product: Trek Precaliber 24 7-speed Girl's - 2018 (Product ID: 279) - Average Discount: 0.20 - Total Quantity Sold: 1\n",
      "Product: Electra Cruiser Lux 7D Ladies' - 2018 (Product ID: 232) - Average Discount: 0.20 - Total Quantity Sold: 2\n",
      "Product: Trek Lift+ Lowstep - 2018 (Product ID: 189) - Average Discount: 0.20 - Total Quantity Sold: 2\n",
      "Product: Trek Domane SL 5 Women's - 2018 (Product ID: 183) - Average Discount: 0.20 - Total Quantity Sold: 1\n",
      "Product: Trek Domane SLR Disc Frameset - 2018 (Product ID: 174) - Average Discount: 0.20 - Total Quantity Sold: 1\n",
      "Product: Trek Remedy 9.8 27.5 - 2018 (Product ID: 140) - Average Discount: 0.20 - Total Quantity Sold: 3\n"
     ]
    }
   ],
   "source": [
    "# Menampilkan jumlah customer berdasarkan jumlah order\n",
    "cursor.execute('''\n",
    "SELECT p.product_id, p.product_name, AVG(oi.discount) AS avg_discount, SUM(oi.quantity) AS total_quantity_sold\n",
    "FROM order_items oi\n",
    "JOIN products p ON oi.product_id = p.product_id\n",
    "GROUP BY p.product_id\n",
    "ORDER BY avg_discount DESC\n",
    "LIMIT 10;\n",
    "''')\n",
    "\n",
    "# Menampilkan hasil query\n",
    "results = cursor.fetchall()\n",
    "for row in results:\n",
    "    print(f\"Product: {row[1]} (Product ID: {row[0]}) - Average Discount: {row[2]:.2f} - Total Quantity Sold: {row[3]}\")"
   ]
  },
  {
   "cell_type": "markdown",
   "id": "c364679c-1c15-4bd0-9688-76512e00c796",
   "metadata": {},
   "source": [
    "### 18. How has product pricing changed over the years based on model year?"
   ]
  },
  {
   "cell_type": "code",
   "execution_count": 32,
   "id": "824fffbf-e8a8-4683-9999-5cdf474c9163",
   "metadata": {},
   "outputs": [
    {
     "name": "stdout",
     "output_type": "stream",
     "text": [
      "Model Year: 2016 - Average Price: 980.30\n",
      "Model Year: 2017 - Average Price: 1279.93\n",
      "Model Year: 2018 - Average Price: 1658.47\n",
      "Model Year: 2019 - Average Price: 2583.32\n"
     ]
    }
   ],
   "source": [
    "# Menampilkan jumlah customer berdasarkan jumlah order\n",
    "cursor.execute('''\n",
    "SELECT p.model_year, AVG(p.list_price) AS avg_price\n",
    "FROM products p\n",
    "GROUP BY p.model_year\n",
    "ORDER BY p.model_year;\n",
    "''')\n",
    "\n",
    "# Menampilkan hasil query\n",
    "results = cursor.fetchall()\n",
    "for row in results:\n",
    "    print(f\"Model Year: {row[0]} - Average Price: {row[1]:.2f}\")"
   ]
  },
  {
   "cell_type": "markdown",
   "id": "cc7db644-7823-4ce8-be39-02a87aa0e248",
   "metadata": {},
   "source": [
    "### 19. What is the total revenue before and after discounts in a given period?"
   ]
  },
  {
   "cell_type": "code",
   "execution_count": 33,
   "id": "a3c9d489-afee-4c8d-a29f-a0b0fc13f816",
   "metadata": {},
   "outputs": [
    {
     "name": "stdout",
     "output_type": "stream",
     "text": [
      "Total Revenue Before Discount: 8554490.07\n",
      "Total Revenue After Discount: 8553747.28\n"
     ]
    }
   ],
   "source": [
    "# Menampilkan jumlah customer berdasarkan jumlah order\n",
    "cursor.execute('''\n",
    "SELECT \n",
    "    SUM(oi.quantity * oi.list_price) AS total_revenue_before_discount,\n",
    "    SUM(oi.quantity * (oi.list_price - oi.discount)) AS total_revenue_after_discount\n",
    "FROM order_items oi\n",
    "JOIN orders o ON oi.order_id = o.order_id\n",
    "WHERE o.order_date BETWEEN '2016-01-01' AND '2018-10-01';\n",
    "''')\n",
    "\n",
    "# Menampilkan hasil query\n",
    "result = cursor.fetchone()\n",
    "if result:\n",
    "    print(f\"Total Revenue Before Discount: {result[0]:.2f}\")\n",
    "    print(f\"Total Revenue After Discount: {result[1]:.2f}\")\n",
    "else:\n",
    "    print(\"No orders found for the specified period.\")"
   ]
  },
  {
   "cell_type": "code",
   "execution_count": 34,
   "id": "d16aa7b2-843a-4caf-83c3-a2f845133740",
   "metadata": {},
   "outputs": [],
   "source": [
    "# Menutup koneksi\n",
    "conn.close()"
   ]
  },
  {
   "cell_type": "markdown",
   "id": "55a910b8-98ed-4779-ae4f-54ee66090b03",
   "metadata": {},
   "source": [
    "# "
   ]
  }
 ],
 "metadata": {
  "kernelspec": {
   "display_name": "Python 3 (ipykernel)",
   "language": "python",
   "name": "python3"
  },
  "language_info": {
   "codemirror_mode": {
    "name": "ipython",
    "version": 3
   },
   "file_extension": ".py",
   "mimetype": "text/x-python",
   "name": "python",
   "nbconvert_exporter": "python",
   "pygments_lexer": "ipython3",
   "version": "3.11.2"
  }
 },
 "nbformat": 4,
 "nbformat_minor": 5
}
